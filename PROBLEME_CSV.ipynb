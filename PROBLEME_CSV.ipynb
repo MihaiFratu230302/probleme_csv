{
 "cells": [
  {
   "cell_type": "markdown",
   "metadata": {},
   "source": [
    "### PROBLEMA 1"
   ]
  },
  {
   "cell_type": "code",
   "execution_count": 67,
   "metadata": {},
   "outputs": [],
   "source": [
    "import csv\n",
    "import json\n",
    "from datetime import datetime\n",
    "\n",
    "file_path = 'studenti.csv'\n",
    "file_path_json = 'studenti.json'\n",
    "\n",
    "def read_csv_to_dictionary(file_path):\n",
    "    \"\"\"\n",
    "    Citeste datele dintr-un fișier CSV într-un dicționar Python.\n",
    "    \"\"\"\n",
    "    data_dictionary = {}\n",
    "\n",
    "    try:\n",
    "        with open(file_path, 'r') as csv_file:\n",
    "            csv_reader = csv.DictReader(csv_file)\n",
    "            for row in csv_reader:\n",
    "                # Assume the CSV file has columns 'key' and 'value'\n",
    "                key = row['ID Student']\n",
    "                value = [row['NUME'] + ' ' + row['Prenume'], int(row['Punctaj Tema']), row['Data Submisie'], int(row['Punctaj Tema'])]\n",
    "                \n",
    "                # Add key-value pair to the dictionary\n",
    "                data_dictionary[key] = value\n",
    "\n",
    "    except FileNotFoundError:\n",
    "        print(f\"Fisierul CSV {file_path} nu a fost gasit.\")\n",
    "    except Exception as e:\n",
    "        print(f\"O eroare a aparut: {e}\")\n",
    "\n",
    "    return data_dictionary\n",
    "\n",
    "dictionar = read_csv_to_dictionary(file_path)\n",
    "dictionar\n",
    "\n",
    "# Scrie dicționarul în fișierul JSON\n",
    "with open(file_path_json, 'w') as json_file:\n",
    "    json.dump(dictionar, json_file, indent=4)"
   ]
  },
  {
   "cell_type": "markdown",
   "metadata": {},
   "source": [
    "### PROBLEMA 2"
   ]
  },
  {
   "cell_type": "code",
   "execution_count": 68,
   "metadata": {},
   "outputs": [],
   "source": [
    "\n",
    "for key in dictionar:\n",
    "    data_sir = dictionar[key][2]\n",
    "    data_deadline_sir = '2023-12-07'\n",
    "    data = datetime.strptime(data_sir, '%Y-%m-%d')\n",
    "    data_deadline = datetime.strptime(data_deadline_sir, '%Y-%m-%d')\n",
    "    if data < data_deadline:\n",
    "        time_difference = data_deadline - data\n",
    "        dictionar[key][3] = dictionar[key][3] + 10 * time_difference.days\n",
    "    if data > data_deadline:\n",
    "        time_difference = data - data_deadline\n",
    "        dictionar[key][3] = dictionar[key][3] - 10 * time_difference.days\n",
    "\n",
    "with open(file_path_json, 'w') as json_file:\n",
    "    json.dump(dictionar, json_file, indent=4)"
   ]
  },
  {
   "cell_type": "markdown",
   "metadata": {},
   "source": [
    "### PROBLEMA 3 "
   ]
  },
  {
   "cell_type": "code",
   "execution_count": 69,
   "metadata": {},
   "outputs": [],
   "source": [
    "for key in dictionar:\n",
    "    if dictionar[key][3] < 0:\n",
    "        dictionar[key][3] = 0\n",
    "\n",
    "with open(file_path_json, 'w') as json_file:\n",
    "    json.dump(dictionar, json_file, indent=4)"
   ]
  },
  {
   "cell_type": "markdown",
   "metadata": {},
   "source": [
    "### PROBLEMA 4"
   ]
  },
  {
   "cell_type": "code",
   "execution_count": 70,
   "metadata": {},
   "outputs": [],
   "source": [
    "for key in dictionar:\n",
    "    if dictionar[key][3] - dictionar[key][1] > 30:\n",
    "        dictionar[key][3] = dictionar[key][1] + 30\n",
    "\n",
    "with open(file_path_json, 'w') as json_file:\n",
    "    json.dump(dictionar, json_file, indent=4)"
   ]
  },
  {
   "cell_type": "markdown",
   "metadata": {},
   "source": [
    "### PROBLEMA 5"
   ]
  },
  {
   "cell_type": "code",
   "execution_count": 71,
   "metadata": {},
   "outputs": [],
   "source": [
    "for key in dictionar:\n",
    "    data_sir = dictionar[key][2]\n",
    "    data_hard_deadline_sir = '2023-12-14'\n",
    "    data = datetime.strptime(data_sir, '%Y-%m-%d')\n",
    "    data_hard_deadline = datetime.strptime(data_hard_deadline_sir, '%Y-%m-%d')\n",
    "    if data > data_hard_deadline:\n",
    "        dictionar[key][3] = 0\n",
    "\n",
    "with open(file_path_json, 'w') as json_file:\n",
    "    json.dump(dictionar, json_file, indent=4)"
   ]
  }
 ],
 "metadata": {
  "kernelspec": {
   "display_name": "prob_csv",
   "language": "python",
   "name": "python3"
  },
  "language_info": {
   "codemirror_mode": {
    "name": "ipython",
    "version": 3
   },
   "file_extension": ".py",
   "mimetype": "text/x-python",
   "name": "python",
   "nbconvert_exporter": "python",
   "pygments_lexer": "ipython3",
   "version": "3.8.16"
  }
 },
 "nbformat": 4,
 "nbformat_minor": 2
}
