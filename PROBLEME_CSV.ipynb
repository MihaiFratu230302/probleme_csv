{
 "cells": [
  {
   "cell_type": "markdown",
   "metadata": {},
   "source": [
    "###PROBLEMA 1"
   ]
  },
  {
   "cell_type": "code",
   "execution_count": 4,
   "metadata": {},
   "outputs": [
    {
     "name": "stdout",
     "output_type": "stream",
     "text": [
      "{'ionel.popescu': ['POPESCU Ionel', '80', '2023-12-14'], 'maria.ionescu': ['IONESCU Maria', '100', '2023-12-07'], 'ioana.stoica': ['STOICA Ioana', '100', '2023-12-05'], 'andrei.popa': ['POPA Andrei', '30', '2023-12-10'], 'grigore.stoian': ['STOIAN Grigore', '100', '2023-12-15']}\n"
     ]
    }
   ],
   "source": [
    "import csv\n",
    "\n",
    "file_path = 'studenti.csv'\n",
    "\n",
    "def read_csv_to_dictionary(file_path):\n",
    "    \"\"\"\n",
    "    Citeste datele dintr-un fișier CSV într-un dicționar Python.\n",
    "    \"\"\"\n",
    "    data_dictionary = {}\n",
    "\n",
    "    try:\n",
    "        with open(file_path, 'r') as csv_file:\n",
    "            csv_reader = csv.DictReader(csv_file)\n",
    "            for row in csv_reader:\n",
    "                # Assume the CSV file has columns 'key' and 'value'\n",
    "                key = row['ID Student']\n",
    "                value = [row['NUME'] + ' ' + row['Prenume'], row['Punctaj Tema'], row['Data Submisie']]\n",
    "                \n",
    "                # Add key-value pair to the dictionary\n",
    "                data_dictionary[key] = value\n",
    "\n",
    "    except FileNotFoundError:\n",
    "        print(f\"Fisierul CSV {file_path} nu a fost gasit.\")\n",
    "    except Exception as e:\n",
    "        print(f\"O eroare a aparut: {e}\")\n",
    "\n",
    "    return data_dictionary\n",
    "\n",
    "print(read_csv_to_dictionary(file_path))"
   ]
  }
 ],
 "metadata": {
  "kernelspec": {
   "display_name": "prob_csv",
   "language": "python",
   "name": "python3"
  },
  "language_info": {
   "codemirror_mode": {
    "name": "ipython",
    "version": 3
   },
   "file_extension": ".py",
   "mimetype": "text/x-python",
   "name": "python",
   "nbconvert_exporter": "python",
   "pygments_lexer": "ipython3",
   "version": "3.8.16"
  }
 },
 "nbformat": 4,
 "nbformat_minor": 2
}
